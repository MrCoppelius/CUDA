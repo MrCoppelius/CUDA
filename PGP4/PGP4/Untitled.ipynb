{
 "cells": [
  {
   "cell_type": "code",
   "execution_count": 17,
   "metadata": {},
   "outputs": [],
   "source": [
    "import numpy as np\n",
    "\n",
    "\n",
    "#A = np.random.uniform(-0.5, 0.5, (100,100))\n",
    "A = np.random.randint(-100, 100, (1001, 1000))\n",
    "A[0][0] = 1000\n",
    "np.savetxt('in.data', A, fmt = '%d' )"
   ]
  },
  {
   "cell_type": "code",
   "execution_count": 18,
   "metadata": {},
   "outputs": [],
   "source": [
    "B = np.random.randint(-400, 400, (101,100))\n",
    "B[0][0] = 100\n",
    "np.savetxt('in.data2', B,  fmt = '%d' )"
   ]
  },
  {
   "cell_type": "code",
   "execution_count": 19,
   "metadata": {},
   "outputs": [],
   "source": [
    "C = np.random.randint(-200, 200, (31,30))\n",
    "C[0][0] = 30\n",
    "np.savetxt('in.data3', C,  fmt = '%d' )\n",
    "\n"
   ]
  },
  {
   "cell_type": "code",
   "execution_count": null,
   "metadata": {},
   "outputs": [],
   "source": []
  }
 ],
 "metadata": {
  "kernelspec": {
   "display_name": "Python 3",
   "language": "python",
   "name": "python3"
  },
  "language_info": {
   "codemirror_mode": {
    "name": "ipython",
    "version": 3
   },
   "file_extension": ".py",
   "mimetype": "text/x-python",
   "name": "python",
   "nbconvert_exporter": "python",
   "pygments_lexer": "ipython3",
   "version": "3.6.4"
  }
 },
 "nbformat": 4,
 "nbformat_minor": 2
}
